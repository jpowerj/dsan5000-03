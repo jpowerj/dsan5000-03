{
 "cells": [
  {
   "cell_type": "code",
   "execution_count": 3,
   "metadata": {},
   "outputs": [
    {
     "name": "stdout",
     "output_type": "stream",
     "text": [
      "404 {\"message\": \"Not Found\", \"documentation_url\": \"https://docs.github.com/rest/repos/repos#get-a-repository\"}\n"
     ]
    }
   ],
   "source": [
    "#| label: pygithub-noauth\n",
    "#| echo: true\n",
    "#| code-line-numbers: 4\n",
    "import github\n",
    "g = github.Github()\n",
    "try:\n",
    "    g.get_repo(\"jpowerj/private-repo-test\")\n",
    "except Exception as e:\n",
    "    print(e)\n"
   ]
  },
  {
   "cell_type": "code",
   "execution_count": 4,
   "metadata": {},
   "outputs": [
    {
     "data": {
      "text/plain": [
       "Repository(full_name=\"jpowerj/private-repo-test\")"
      ]
     },
     "execution_count": 4,
     "metadata": {},
     "output_type": "execute_result"
    }
   ],
   "source": [
    "#| label: pygithub-auth\n",
    "#| echo: true\n",
    "#| code-line-numbers: 8-10\n",
    "# Load the access token securely\n",
    "import dotenv\n",
    "dotenv.load_dotenv(\"../.env\", override=True)\n",
    "import os\n",
    "my_access_token = os.getenv('GITHUB_TOKEN')\n",
    "import github\n",
    "# Use the access token to make an API request\n",
    "auth = github.Auth.Token(my_access_token)\n",
    "g = github.Github(auth=auth)\n",
    "g.get_user().get_repo(\"private-repo-test\")"
   ]
  },
  {
   "cell_type": "code",
   "execution_count": null,
   "metadata": {},
   "outputs": [],
   "source": []
  }
 ],
 "metadata": {
  "kernelspec": {
   "display_name": "Python 3",
   "language": "python",
   "name": "python3"
  },
  "language_info": {
   "codemirror_mode": {
    "name": "ipython",
    "version": 3
   },
   "file_extension": ".py",
   "mimetype": "text/x-python",
   "name": "python",
   "nbconvert_exporter": "python",
   "pygments_lexer": "ipython3",
   "version": "3.11.5"
  },
  "orig_nbformat": 4
 },
 "nbformat": 4,
 "nbformat_minor": 2
}
